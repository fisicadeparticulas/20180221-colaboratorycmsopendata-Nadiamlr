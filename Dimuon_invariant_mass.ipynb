{
  "nbformat": 4,
  "nbformat_minor": 0,
  "metadata": {
    "colab": {
      "name": "Dimuon_invariant_mass",
      "version": "0.3.2",
      "provenance": []
    },
    "kernelspec": {
      "name": "python3",
      "display_name": "Python 3"
    }
  },
  "cells": [
    {
      "metadata": {
        "id": "a_TE4vIEf3JE",
        "colab_type": "code",
        "colab": {}
      },
      "cell_type": "code",
      "source": [
        "import pandas as pd\n",
        "import numpy as np\n",
        "import matplotlib.pyplot as plt\n",
        "import math"
      ],
      "execution_count": 0,
      "outputs": []
    },
    {
      "metadata": {
        "id": "fE7zDy7ff4SX",
        "colab_type": "code",
        "colab": {}
      },
      "cell_type": "code",
      "source": [
        "dataset = pd.read_csv('http://opendata.cern.ch/record/545/files/Dimuon_DoubleMu.csv')"
      ],
      "execution_count": 0,
      "outputs": []
    },
    {
      "metadata": {
        "id": "NXc9suwHf6nt",
        "colab_type": "code",
        "outputId": "c9e4b965-21a6-4651-a48a-4b2543bf13d7",
        "colab": {
          "base_uri": "https://localhost:8080/",
          "height": 253
        }
      },
      "cell_type": "code",
      "source": [
        "dataset.head()"
      ],
      "execution_count": 0,
      "outputs": [
        {
          "output_type": "execute_result",
          "data": {
            "text/html": [
              "<div>\n",
              "<style scoped>\n",
              "    .dataframe tbody tr th:only-of-type {\n",
              "        vertical-align: middle;\n",
              "    }\n",
              "\n",
              "    .dataframe tbody tr th {\n",
              "        vertical-align: top;\n",
              "    }\n",
              "\n",
              "    .dataframe thead th {\n",
              "        text-align: right;\n",
              "    }\n",
              "</style>\n",
              "<table border=\"1\" class=\"dataframe\">\n",
              "  <thead>\n",
              "    <tr style=\"text-align: right;\">\n",
              "      <th></th>\n",
              "      <th>Run</th>\n",
              "      <th>Event</th>\n",
              "      <th>type1</th>\n",
              "      <th>E1</th>\n",
              "      <th>px1</th>\n",
              "      <th>py1</th>\n",
              "      <th>pz1</th>\n",
              "      <th>pt1</th>\n",
              "      <th>eta1</th>\n",
              "      <th>phi1</th>\n",
              "      <th>...</th>\n",
              "      <th>type2</th>\n",
              "      <th>E2</th>\n",
              "      <th>px2</th>\n",
              "      <th>py2</th>\n",
              "      <th>pz2</th>\n",
              "      <th>pt2</th>\n",
              "      <th>eta2</th>\n",
              "      <th>phi2</th>\n",
              "      <th>Q2</th>\n",
              "      <th>M</th>\n",
              "    </tr>\n",
              "  </thead>\n",
              "  <tbody>\n",
              "    <tr>\n",
              "      <th>0</th>\n",
              "      <td>165617</td>\n",
              "      <td>74601703</td>\n",
              "      <td>G</td>\n",
              "      <td>9.6987</td>\n",
              "      <td>-9.5104</td>\n",
              "      <td>0.3662</td>\n",
              "      <td>1.8633</td>\n",
              "      <td>9.5175</td>\n",
              "      <td>0.1945</td>\n",
              "      <td>3.1031</td>\n",
              "      <td>...</td>\n",
              "      <td>G</td>\n",
              "      <td>9.7633</td>\n",
              "      <td>7.3277</td>\n",
              "      <td>-1.1524</td>\n",
              "      <td>6.3473</td>\n",
              "      <td>7.4178</td>\n",
              "      <td>0.7756</td>\n",
              "      <td>-0.1560</td>\n",
              "      <td>1</td>\n",
              "      <td>17.4922</td>\n",
              "    </tr>\n",
              "    <tr>\n",
              "      <th>1</th>\n",
              "      <td>165617</td>\n",
              "      <td>75100943</td>\n",
              "      <td>G</td>\n",
              "      <td>6.2039</td>\n",
              "      <td>-4.2666</td>\n",
              "      <td>0.4565</td>\n",
              "      <td>-4.4793</td>\n",
              "      <td>4.2910</td>\n",
              "      <td>-0.9121</td>\n",
              "      <td>3.0350</td>\n",
              "      <td>...</td>\n",
              "      <td>G</td>\n",
              "      <td>9.6690</td>\n",
              "      <td>7.2740</td>\n",
              "      <td>-2.8211</td>\n",
              "      <td>-5.7104</td>\n",
              "      <td>7.8019</td>\n",
              "      <td>-0.6786</td>\n",
              "      <td>-0.3700</td>\n",
              "      <td>1</td>\n",
              "      <td>11.5534</td>\n",
              "    </tr>\n",
              "    <tr>\n",
              "      <th>2</th>\n",
              "      <td>165617</td>\n",
              "      <td>75587682</td>\n",
              "      <td>G</td>\n",
              "      <td>19.2892</td>\n",
              "      <td>-4.2121</td>\n",
              "      <td>-0.6516</td>\n",
              "      <td>18.8121</td>\n",
              "      <td>4.2622</td>\n",
              "      <td>2.1905</td>\n",
              "      <td>-2.9881</td>\n",
              "      <td>...</td>\n",
              "      <td>G</td>\n",
              "      <td>9.8244</td>\n",
              "      <td>4.3439</td>\n",
              "      <td>-0.4735</td>\n",
              "      <td>8.7985</td>\n",
              "      <td>4.3697</td>\n",
              "      <td>1.4497</td>\n",
              "      <td>-0.1086</td>\n",
              "      <td>1</td>\n",
              "      <td>9.1636</td>\n",
              "    </tr>\n",
              "    <tr>\n",
              "      <th>3</th>\n",
              "      <td>165617</td>\n",
              "      <td>75660978</td>\n",
              "      <td>G</td>\n",
              "      <td>7.0427</td>\n",
              "      <td>-6.3268</td>\n",
              "      <td>-0.2685</td>\n",
              "      <td>3.0802</td>\n",
              "      <td>6.3325</td>\n",
              "      <td>0.4690</td>\n",
              "      <td>-3.0992</td>\n",
              "      <td>...</td>\n",
              "      <td>G</td>\n",
              "      <td>5.5857</td>\n",
              "      <td>4.4748</td>\n",
              "      <td>0.8489</td>\n",
              "      <td>-3.2319</td>\n",
              "      <td>4.5546</td>\n",
              "      <td>-0.6605</td>\n",
              "      <td>0.1875</td>\n",
              "      <td>1</td>\n",
              "      <td>12.4774</td>\n",
              "    </tr>\n",
              "    <tr>\n",
              "      <th>4</th>\n",
              "      <td>165617</td>\n",
              "      <td>75947690</td>\n",
              "      <td>G</td>\n",
              "      <td>7.2751</td>\n",
              "      <td>0.1030</td>\n",
              "      <td>-5.5331</td>\n",
              "      <td>-4.7212</td>\n",
              "      <td>5.5340</td>\n",
              "      <td>-0.7736</td>\n",
              "      <td>-1.5522</td>\n",
              "      <td>...</td>\n",
              "      <td>G</td>\n",
              "      <td>7.3181</td>\n",
              "      <td>-0.3988</td>\n",
              "      <td>6.9408</td>\n",
              "      <td>2.2825</td>\n",
              "      <td>6.9523</td>\n",
              "      <td>0.3227</td>\n",
              "      <td>1.6282</td>\n",
              "      <td>1</td>\n",
              "      <td>14.3159</td>\n",
              "    </tr>\n",
              "  </tbody>\n",
              "</table>\n",
              "<p>5 rows × 21 columns</p>\n",
              "</div>"
            ],
            "text/plain": [
              "      Run     Event type1       E1     px1     py1      pz1     pt1    eta1  \\\n",
              "0  165617  74601703     G   9.6987 -9.5104  0.3662   1.8633  9.5175  0.1945   \n",
              "1  165617  75100943     G   6.2039 -4.2666  0.4565  -4.4793  4.2910 -0.9121   \n",
              "2  165617  75587682     G  19.2892 -4.2121 -0.6516  18.8121  4.2622  2.1905   \n",
              "3  165617  75660978     G   7.0427 -6.3268 -0.2685   3.0802  6.3325  0.4690   \n",
              "4  165617  75947690     G   7.2751  0.1030 -5.5331  -4.7212  5.5340 -0.7736   \n",
              "\n",
              "     phi1   ...     type2      E2     px2     py2     pz2     pt2    eta2  \\\n",
              "0  3.1031   ...         G  9.7633  7.3277 -1.1524  6.3473  7.4178  0.7756   \n",
              "1  3.0350   ...         G  9.6690  7.2740 -2.8211 -5.7104  7.8019 -0.6786   \n",
              "2 -2.9881   ...         G  9.8244  4.3439 -0.4735  8.7985  4.3697  1.4497   \n",
              "3 -3.0992   ...         G  5.5857  4.4748  0.8489 -3.2319  4.5546 -0.6605   \n",
              "4 -1.5522   ...         G  7.3181 -0.3988  6.9408  2.2825  6.9523  0.3227   \n",
              "\n",
              "     phi2  Q2        M  \n",
              "0 -0.1560   1  17.4922  \n",
              "1 -0.3700   1  11.5534  \n",
              "2 -0.1086   1   9.1636  \n",
              "3  0.1875   1  12.4774  \n",
              "4  1.6282   1  14.3159  \n",
              "\n",
              "[5 rows x 21 columns]"
            ]
          },
          "metadata": {
            "tags": []
          },
          "execution_count": 9
        }
      ]
    },
    {
      "metadata": {
        "id": "CibRPdp0f9n2",
        "colab_type": "code",
        "colab": {}
      },
      "cell_type": "code",
      "source": [
        ""
      ],
      "execution_count": 0,
      "outputs": []
    },
    {
      "metadata": {
        "id": "SOxJMa4rgEJN",
        "colab_type": "code",
        "colab": {}
      },
      "cell_type": "code",
      "source": [
        "\n",
        "invariant_mass = np.sqrt(2*dataset.pt1*dataset.pt2*(np.cosh(dataset.eta1-dataset.eta2) - np.cos(dataset.phi1-dataset.phi2)))\n"
      ],
      "execution_count": 0,
      "outputs": []
    },
    {
      "metadata": {
        "id": "Nk9dtTzigHD-",
        "colab_type": "code",
        "outputId": "6c542cbd-8048-4967-8806-1785653c6072",
        "colab": {
          "base_uri": "https://localhost:8080/",
          "height": 1071
        }
      },
      "cell_type": "code",
      "source": [
        "print(invariant_mass)"
      ],
      "execution_count": 0,
      "outputs": [
        {
          "output_type": "stream",
          "text": [
            "0        17.491141\n",
            "1        11.551450\n",
            "2         9.160949\n",
            "3        12.475563\n",
            "4        14.314328\n",
            "5         6.821025\n",
            "6        39.533317\n",
            "7        37.735704\n",
            "8        10.536990\n",
            "9         3.105639\n",
            "10       10.405661\n",
            "11       14.697853\n",
            "12        0.721206\n",
            "13       10.168314\n",
            "14       31.079119\n",
            "15        9.297533\n",
            "16       11.517978\n",
            "17       14.260681\n",
            "18        5.755726\n",
            "19       13.974370\n",
            "20       15.538230\n",
            "21       89.955085\n",
            "22       14.024628\n",
            "23        0.239913\n",
            "24       10.800250\n",
            "25       11.520241\n",
            "26       10.538224\n",
            "27       25.803352\n",
            "28       16.503179\n",
            "29       14.958826\n",
            "           ...    \n",
            "99970     1.315033\n",
            "99971    12.963490\n",
            "99972     3.105760\n",
            "99973     0.354508\n",
            "99974     8.713765\n",
            "99975     1.638327\n",
            "99976    13.278933\n",
            "99977    13.608583\n",
            "99978    18.097931\n",
            "99979    27.206356\n",
            "99980    11.465895\n",
            "99981    14.579363\n",
            "99982     9.992219\n",
            "99983    18.003868\n",
            "99984    16.102962\n",
            "99985     7.164253\n",
            "99986     1.242760\n",
            "99987    11.919742\n",
            "99988     2.728419\n",
            "99989     1.139903\n",
            "99990    25.751863\n",
            "99991    12.282806\n",
            "99992    14.120185\n",
            "99993    19.196073\n",
            "99994     8.396729\n",
            "99995    11.204075\n",
            "99996    14.580022\n",
            "99997    29.841969\n",
            "99998    20.205780\n",
            "99999     9.371710\n",
            "Length: 100000, dtype: float64\n"
          ],
          "name": "stdout"
        }
      ]
    },
    {
      "metadata": {
        "id": "dUX4VIZT2KyT",
        "colab_type": "code",
        "colab": {}
      },
      "cell_type": "code",
      "source": [
        "\n",
        "\n"
      ],
      "execution_count": 0,
      "outputs": []
    },
    {
      "metadata": {
        "id": "otA-8nwf_u_5",
        "colab_type": "code",
        "outputId": "0dcfff0e-d78b-4ef1-9727-3c5085e5d84a",
        "colab": {
          "base_uri": "https://localhost:8080/",
          "height": 308
        }
      },
      "cell_type": "code",
      "source": [
        "%matplotlib inline\n",
        "\n",
        "\n",
        "plt.hist(invariant_mass, bins=300, range=(0,150))\n",
        "\n",
        "axes = plt.gca()\n",
        "axes.set_ylim([0,8000])\n",
        "\n",
        "\n",
        "plt.xlabel('Invariant mass [GeV]')\n",
        "plt.ylabel('Number of events')\n",
        "plt.title('Histogram of invariant masses of two muons\\n')\n",
        "\n",
        "\n",
        "selected = []\n"
      ],
      "execution_count": 0,
      "outputs": [
        {
          "output_type": "display_data",
          "data": {
            "image/png": "[encoded data removed]",
            "text/plain": [
              "<Figure size 432x288 with 1 Axes>"
            ]
          },
          "metadata": {
            "tags": []
          }
        }
      ]
    },
    {
      "metadata": {
        "id": "I_8ycTEkQFJK",
        "colab_type": "code",
        "colab": {}
      },
      "cell_type": "code",
      "source": [
        ""
      ],
      "execution_count": 0,
      "outputs": []
    }
  ]
}